{
 "cells": [
  {
   "cell_type": "markdown",
   "metadata": {},
   "source": [
    "# Extensions to Linear Models - Lab"
   ]
  },
  {
   "cell_type": "markdown",
   "metadata": {},
   "source": [
    "## Introduction\n",
    "\n",
    "In this lab, you'll practice many concepts you have learned so far, from adding interactions and polynomials to your model to regularization!"
   ]
  },
  {
   "cell_type": "markdown",
   "metadata": {},
   "source": [
    "## Summary\n",
    "\n",
    "You will be able to:\n",
    "\n",
    "- Build a linear regression model with interactions and polynomial features \n",
    "- Use feature selection to obtain the optimal subset of features in a dataset"
   ]
  },
  {
   "cell_type": "markdown",
   "metadata": {},
   "source": [
    "## Let's Get Started!\n",
    "\n",
    "Below we import all the necessary packages for this lab."
   ]
  },
  {
   "cell_type": "code",
   "execution_count": 1,
   "metadata": {
    "ExecuteTime": {
     "end_time": "2023-07-19T15:59:44.881944Z",
     "start_time": "2023-07-19T15:59:41.943437Z"
    }
   },
   "outputs": [],
   "source": [
    "# Run this cell without changes\n",
    "\n",
    "import pandas as pd\n",
    "import numpy as np\n",
    "import matplotlib.pyplot as plt\n",
    "import warnings\n",
    "warnings.filterwarnings('ignore')\n",
    "from itertools import combinations\n",
    "\n",
    "from sklearn.feature_selection import RFE\n",
    "from sklearn.linear_model import LinearRegression, Lasso\n",
    "from sklearn.metrics import mean_squared_error\n",
    "from sklearn.model_selection import train_test_split\n",
    "from sklearn.preprocessing import StandardScaler, PolynomialFeatures"
   ]
  },
  {
   "cell_type": "markdown",
   "metadata": {},
   "source": [
    "Load the data."
   ]
  },
  {
   "cell_type": "code",
   "execution_count": 2,
   "metadata": {
    "ExecuteTime": {
     "end_time": "2023-07-19T15:59:44.939384Z",
     "start_time": "2023-07-19T15:59:44.886912Z"
    }
   },
   "outputs": [],
   "source": [
    "# Run this cell without changes\n",
    "\n",
    "# Load data from CSV\n",
    "df = pd.read_csv(\"ames.csv\")\n",
    "# Subset columns\n",
    "df = df[['LotArea', 'OverallQual', 'OverallCond', 'TotalBsmtSF',\n",
    "         '1stFlrSF', '2ndFlrSF', 'GrLivArea', 'TotRmsAbvGrd',\n",
    "         'GarageArea', 'Fireplaces', 'SalePrice']]\n",
    "\n",
    "# Split the data into X and y\n",
    "y = df['SalePrice']\n",
    "X = df.drop(columns='SalePrice')\n",
    "\n",
    "# Split into train, test, and validation sets\n",
    "X_train, X_val, y_train, y_val = train_test_split(X, y, random_state=42)\n",
    "X_train, X_test, y_train, y_test = train_test_split(X_train, y_train, random_state=0)"
   ]
  },
  {
   "cell_type": "markdown",
   "metadata": {},
   "source": [
    "## Build a Baseline Housing Data Model"
   ]
  },
  {
   "cell_type": "markdown",
   "metadata": {},
   "source": [
    "Above, we imported the Ames housing data and grabbed a subset of the data to use in this analysis.\n",
    "\n",
    "Next steps:\n",
    "\n",
    "- Scale all the predictors using `StandardScaler`, then convert these scaled features back into DataFrame objects\n",
    "- Build a baseline `LinearRegression` model using *scaled variables* as predictors and use the $R^2$ score to evaluate the model "
   ]
  },
  {
   "cell_type": "code",
   "execution_count": 3,
   "metadata": {
    "ExecuteTime": {
     "end_time": "2023-07-19T15:59:44.964169Z",
     "start_time": "2023-07-19T15:59:44.943083Z"
    }
   },
   "outputs": [],
   "source": [
    "# Your code here\n",
    "scaler = StandardScaler()\n",
    "\n",
    "# Scale X_train and X_test using StandardScaler\n",
    "X_train_scaled = scaler.fit_transform(X_train)\n",
    "X_test_scaled = scaler.transform(X_test)\n",
    "\n",
    "# Ensure X_train and X_test are scaled DataFrames\n",
    "# (hint: you can set the columns using X.columns)\n",
    "X_train = pd.DataFrame(X_train_scaled, \n",
    "                                   columns=X.columns, \n",
    "                                   index=X_train.index)\n",
    "X_test = pd.DataFrame(X_test_scaled, \n",
    "                                  columns=X.columns, \n",
    "                                  index=X_test.index)"
   ]
  },
  {
   "cell_type": "code",
   "execution_count": 4,
   "metadata": {
    "ExecuteTime": {
     "end_time": "2023-07-19T15:59:45.010412Z",
     "start_time": "2023-07-19T15:59:44.972991Z"
    }
   },
   "outputs": [
    {
     "data": {
      "text/plain": [
       "0.7868344817421309"
      ]
     },
     "execution_count": 4,
     "metadata": {},
     "output_type": "execute_result"
    }
   ],
   "source": [
    "# Create a LinearRegression model and fit it on scaled training data\n",
    "lr = LinearRegression()\n",
    "lr.fit(X_train, y_train)\n",
    "# Calculate a baseline r-squared score on training data\n",
    "baseline = lr.score(X_train, y_train)\n",
    "baseline"
   ]
  },
  {
   "cell_type": "markdown",
   "metadata": {},
   "source": [
    "## Add Interactions\n",
    "\n",
    "Instead of adding all possible interaction terms, let's try a custom technique. We are only going to add the interaction terms that increase the $R^2$ score as much as possible. Specifically we are going to look for the 7 interaction terms that each cause the most increase in the coefficient of determination.\n",
    "\n",
    "### Find the Best Interactions\n",
    "\n",
    "Look at all the possible combinations of variables for interactions by adding interactions one by one to the baseline model. Create a data structure that stores the pair of columns used as well as the $R^2$ score for each combination.\n",
    "\n",
    "***Hint:*** We have imported the `combinations` function from `itertools` for you ([documentation here](https://docs.python.org/3/library/itertools.html#itertools.combinations)). Try applying this to the columns of `X_train` to find all of the possible pairs.\n",
    "\n",
    "Print the 7 interactions that result in the highest $R^2$ scores."
   ]
  },
  {
   "cell_type": "code",
   "execution_count": 5,
   "metadata": {
    "ExecuteTime": {
     "end_time": "2023-07-19T15:59:45.419984Z",
     "start_time": "2023-07-19T15:59:45.015139Z"
    }
   },
   "outputs": [
    {
     "data": {
      "text/html": [
       "<div>\n",
       "<style scoped>\n",
       "    .dataframe tbody tr th:only-of-type {\n",
       "        vertical-align: middle;\n",
       "    }\n",
       "\n",
       "    .dataframe tbody tr th {\n",
       "        vertical-align: top;\n",
       "    }\n",
       "\n",
       "    .dataframe thead th {\n",
       "        text-align: right;\n",
       "    }\n",
       "</style>\n",
       "<table border=\"1\" class=\"dataframe\">\n",
       "  <thead>\n",
       "    <tr style=\"text-align: right;\">\n",
       "      <th></th>\n",
       "      <th>feat_1</th>\n",
       "      <th>feat_2</th>\n",
       "      <th>r_squared</th>\n",
       "    </tr>\n",
       "  </thead>\n",
       "  <tbody>\n",
       "    <tr>\n",
       "      <th>3</th>\n",
       "      <td>LotArea</td>\n",
       "      <td>1stFlrSF</td>\n",
       "      <td>0.721111</td>\n",
       "    </tr>\n",
       "    <tr>\n",
       "      <th>2</th>\n",
       "      <td>LotArea</td>\n",
       "      <td>TotalBsmtSF</td>\n",
       "      <td>0.707165</td>\n",
       "    </tr>\n",
       "    <tr>\n",
       "      <th>5</th>\n",
       "      <td>LotArea</td>\n",
       "      <td>GrLivArea</td>\n",
       "      <td>0.669098</td>\n",
       "    </tr>\n",
       "    <tr>\n",
       "      <th>8</th>\n",
       "      <td>LotArea</td>\n",
       "      <td>Fireplaces</td>\n",
       "      <td>0.652970</td>\n",
       "    </tr>\n",
       "    <tr>\n",
       "      <th>36</th>\n",
       "      <td>2ndFlrSF</td>\n",
       "      <td>TotRmsAbvGrd</td>\n",
       "      <td>0.647299</td>\n",
       "    </tr>\n",
       "    <tr>\n",
       "      <th>17</th>\n",
       "      <td>OverallCond</td>\n",
       "      <td>TotalBsmtSF</td>\n",
       "      <td>0.642902</td>\n",
       "    </tr>\n",
       "    <tr>\n",
       "      <th>12</th>\n",
       "      <td>OverallQual</td>\n",
       "      <td>2ndFlrSF</td>\n",
       "      <td>0.642232</td>\n",
       "    </tr>\n",
       "  </tbody>\n",
       "</table>\n",
       "</div>"
      ],
      "text/plain": [
       "         feat_1        feat_2  r_squared\n",
       "3       LotArea      1stFlrSF   0.721111\n",
       "2       LotArea   TotalBsmtSF   0.707165\n",
       "5       LotArea     GrLivArea   0.669098\n",
       "8       LotArea    Fireplaces   0.652970\n",
       "36     2ndFlrSF  TotRmsAbvGrd   0.647299\n",
       "17  OverallCond   TotalBsmtSF   0.642902\n",
       "12  OverallQual      2ndFlrSF   0.642232"
      ]
     },
     "execution_count": 5,
     "metadata": {},
     "output_type": "execute_result"
    }
   ],
   "source": [
    "# Set up data structure\n",
    "interactions = []\n",
    "\n",
    "# Find combinations of columns and loop over them\n",
    "for combo in combinations(X_train.columns,2):\n",
    "    # Make copies of X_train and X_test\n",
    "    train = X_train.copy()\n",
    "    test = X_test.copy()\n",
    "    \n",
    "    # Add interaction term to data\n",
    "    train['interaction'] = train[combo[0]]*train[combo[1]]\n",
    "    test['interaction'] = test[combo[0]]*test[combo[1]]\n",
    "    \n",
    "    # Find r-squared score (fit on training data, evaluate on test data)\n",
    "    lr = LinearRegression()\n",
    "    lr.fit(train,y_train)\n",
    "    R2 = lr.score(test,y_test)\n",
    "    \n",
    "    # Append to data structure\n",
    "    interactions.append([combo[0],combo[1],R2])\n",
    "    \n",
    "# Sort and subset the data structure to find the top 7\n",
    "inter_df = pd.DataFrame(interactions,columns=['feat_1','feat_2','r_squared'])\n",
    "top_7_df = inter_df.sort_values('r_squared',ascending=False).iloc[:7]\n",
    "top_7_df"
   ]
  },
  {
   "cell_type": "markdown",
   "metadata": {},
   "source": [
    "### Add the Best Interactions\n",
    "\n",
    "Write code to include the 7 most important interactions in `X_train` and `X_test` by adding 7 columns. Use the naming convention `\"col1_col2\"`, where `col1` and `col2` are the two columns in the interaction."
   ]
  },
  {
   "cell_type": "code",
   "execution_count": 6,
   "metadata": {
    "ExecuteTime": {
     "end_time": "2023-07-19T15:59:45.469904Z",
     "start_time": "2023-07-19T15:59:45.423395Z"
    }
   },
   "outputs": [
    {
     "data": {
      "text/html": [
       "<div>\n",
       "<style scoped>\n",
       "    .dataframe tbody tr th:only-of-type {\n",
       "        vertical-align: middle;\n",
       "    }\n",
       "\n",
       "    .dataframe tbody tr th {\n",
       "        vertical-align: top;\n",
       "    }\n",
       "\n",
       "    .dataframe thead th {\n",
       "        text-align: right;\n",
       "    }\n",
       "</style>\n",
       "<table border=\"1\" class=\"dataframe\">\n",
       "  <thead>\n",
       "    <tr style=\"text-align: right;\">\n",
       "      <th></th>\n",
       "      <th>LotArea</th>\n",
       "      <th>OverallQual</th>\n",
       "      <th>OverallCond</th>\n",
       "      <th>TotalBsmtSF</th>\n",
       "      <th>1stFlrSF</th>\n",
       "      <th>2ndFlrSF</th>\n",
       "      <th>GrLivArea</th>\n",
       "      <th>TotRmsAbvGrd</th>\n",
       "      <th>GarageArea</th>\n",
       "      <th>Fireplaces</th>\n",
       "      <th>LotArea_1stFlrSF</th>\n",
       "      <th>LotArea_TotalBsmtSF</th>\n",
       "      <th>LotArea_GrLivArea</th>\n",
       "      <th>LotArea_Fireplaces</th>\n",
       "      <th>2ndFlrSF_TotRmsAbvGrd</th>\n",
       "      <th>OverallCond_TotalBsmtSF</th>\n",
       "      <th>OverallQual_2ndFlrSF</th>\n",
       "    </tr>\n",
       "  </thead>\n",
       "  <tbody>\n",
       "    <tr>\n",
       "      <th>518</th>\n",
       "      <td>-0.114710</td>\n",
       "      <td>-0.099842</td>\n",
       "      <td>-0.509252</td>\n",
       "      <td>-0.639316</td>\n",
       "      <td>-0.804789</td>\n",
       "      <td>1.261552</td>\n",
       "      <td>0.499114</td>\n",
       "      <td>0.250689</td>\n",
       "      <td>0.327629</td>\n",
       "      <td>-0.994820</td>\n",
       "      <td>0.092318</td>\n",
       "      <td>0.073336</td>\n",
       "      <td>-0.057254</td>\n",
       "      <td>0.114116</td>\n",
       "      <td>0.316257</td>\n",
       "      <td>0.325573</td>\n",
       "      <td>-0.125956</td>\n",
       "    </tr>\n",
       "    <tr>\n",
       "      <th>236</th>\n",
       "      <td>-0.176719</td>\n",
       "      <td>0.632038</td>\n",
       "      <td>-0.509252</td>\n",
       "      <td>0.838208</td>\n",
       "      <td>0.641608</td>\n",
       "      <td>-0.808132</td>\n",
       "      <td>-0.247249</td>\n",
       "      <td>-0.365525</td>\n",
       "      <td>0.079146</td>\n",
       "      <td>-0.994820</td>\n",
       "      <td>-0.113385</td>\n",
       "      <td>-0.148128</td>\n",
       "      <td>0.043694</td>\n",
       "      <td>0.175804</td>\n",
       "      <td>0.295392</td>\n",
       "      <td>-0.426859</td>\n",
       "      <td>-0.510770</td>\n",
       "    </tr>\n",
       "    <tr>\n",
       "      <th>38</th>\n",
       "      <td>-0.246336</td>\n",
       "      <td>-0.831723</td>\n",
       "      <td>1.304613</td>\n",
       "      <td>-0.012560</td>\n",
       "      <td>-0.329000</td>\n",
       "      <td>-0.808132</td>\n",
       "      <td>-0.944766</td>\n",
       "      <td>-0.981739</td>\n",
       "      <td>-1.105931</td>\n",
       "      <td>-0.994820</td>\n",
       "      <td>0.081045</td>\n",
       "      <td>0.003094</td>\n",
       "      <td>0.232730</td>\n",
       "      <td>0.245060</td>\n",
       "      <td>0.793375</td>\n",
       "      <td>-0.016386</td>\n",
       "      <td>0.672141</td>\n",
       "    </tr>\n",
       "    <tr>\n",
       "      <th>1034</th>\n",
       "      <td>-0.378617</td>\n",
       "      <td>-0.831723</td>\n",
       "      <td>1.304613</td>\n",
       "      <td>-0.339045</td>\n",
       "      <td>-0.609036</td>\n",
       "      <td>-0.808132</td>\n",
       "      <td>-1.146010</td>\n",
       "      <td>-0.981739</td>\n",
       "      <td>-1.134602</td>\n",
       "      <td>0.588023</td>\n",
       "      <td>0.230591</td>\n",
       "      <td>0.128368</td>\n",
       "      <td>0.433899</td>\n",
       "      <td>-0.222636</td>\n",
       "      <td>0.793375</td>\n",
       "      <td>-0.442323</td>\n",
       "      <td>0.672141</td>\n",
       "    </tr>\n",
       "    <tr>\n",
       "      <th>520</th>\n",
       "      <td>-0.010898</td>\n",
       "      <td>-1.563603</td>\n",
       "      <td>1.304613</td>\n",
       "      <td>-2.531499</td>\n",
       "      <td>-1.315922</td>\n",
       "      <td>0.550523</td>\n",
       "      <td>-0.481708</td>\n",
       "      <td>0.250689</td>\n",
       "      <td>-2.281450</td>\n",
       "      <td>-0.994820</td>\n",
       "      <td>0.014341</td>\n",
       "      <td>0.027589</td>\n",
       "      <td>0.005250</td>\n",
       "      <td>0.010842</td>\n",
       "      <td>0.138010</td>\n",
       "      <td>-3.302627</td>\n",
       "      <td>-0.860799</td>\n",
       "    </tr>\n",
       "  </tbody>\n",
       "</table>\n",
       "</div>"
      ],
      "text/plain": [
       "       LotArea  OverallQual  OverallCond  TotalBsmtSF  1stFlrSF  2ndFlrSF  \\\n",
       "518  -0.114710    -0.099842    -0.509252    -0.639316 -0.804789  1.261552   \n",
       "236  -0.176719     0.632038    -0.509252     0.838208  0.641608 -0.808132   \n",
       "38   -0.246336    -0.831723     1.304613    -0.012560 -0.329000 -0.808132   \n",
       "1034 -0.378617    -0.831723     1.304613    -0.339045 -0.609036 -0.808132   \n",
       "520  -0.010898    -1.563603     1.304613    -2.531499 -1.315922  0.550523   \n",
       "\n",
       "      GrLivArea  TotRmsAbvGrd  GarageArea  Fireplaces  LotArea_1stFlrSF  \\\n",
       "518    0.499114      0.250689    0.327629   -0.994820          0.092318   \n",
       "236   -0.247249     -0.365525    0.079146   -0.994820         -0.113385   \n",
       "38    -0.944766     -0.981739   -1.105931   -0.994820          0.081045   \n",
       "1034  -1.146010     -0.981739   -1.134602    0.588023          0.230591   \n",
       "520   -0.481708      0.250689   -2.281450   -0.994820          0.014341   \n",
       "\n",
       "      LotArea_TotalBsmtSF  LotArea_GrLivArea  LotArea_Fireplaces  \\\n",
       "518              0.073336          -0.057254            0.114116   \n",
       "236             -0.148128           0.043694            0.175804   \n",
       "38               0.003094           0.232730            0.245060   \n",
       "1034             0.128368           0.433899           -0.222636   \n",
       "520              0.027589           0.005250            0.010842   \n",
       "\n",
       "      2ndFlrSF_TotRmsAbvGrd  OverallCond_TotalBsmtSF  OverallQual_2ndFlrSF  \n",
       "518                0.316257                 0.325573             -0.125956  \n",
       "236                0.295392                -0.426859             -0.510770  \n",
       "38                 0.793375                -0.016386              0.672141  \n",
       "1034               0.793375                -0.442323              0.672141  \n",
       "520                0.138010                -3.302627             -0.860799  "
      ]
     },
     "execution_count": 6,
     "metadata": {},
     "output_type": "execute_result"
    }
   ],
   "source": [
    "# Loop over top 7 interactions\n",
    "for col1, col2 in top_7_df.iloc[:,:2].itertuples(index=False, name=None):\n",
    "    # Extract column names from data structure\n",
    "    \n",
    "    # Construct new column name\n",
    "    name = str(col1)+'_'+str(col2)\n",
    "    # Add new column to X_train and X_test\n",
    "    X_train[name] = X_train[col1]*X_train[col2]\n",
    "    X_test[name] = X_test[col1]*X_test[col2]\n",
    "X_train.head()"
   ]
  },
  {
   "cell_type": "markdown",
   "metadata": {},
   "source": [
    "## Add Polynomials\n",
    "\n",
    "Now let's repeat that process for adding polynomial terms.\n",
    "\n",
    "### Find the Best Polynomials\n",
    "\n",
    "Try polynomials of degrees 2, 3, and 4 for each variable, in a similar way you did for interactions (by looking at your baseline model and seeing how $R^2$ increases). Do understand that when going for a polynomial of degree 4 with `PolynomialFeatures`, the particular column is raised to the power of 2 and 3 as well in other terms.\n",
    "\n",
    "We only want to include \"pure\" polynomials, so make sure no interactions are included.\n",
    "\n",
    "Once again you should make a data structure that contains the values you have tested. We recommend a list of tuples of the form:\n",
    "\n",
    "`(col_name, degree, R2)`, so eg. `('OverallQual', 2, 0.781)` "
   ]
  },
  {
   "cell_type": "code",
   "execution_count": 7,
   "metadata": {
    "ExecuteTime": {
     "end_time": "2023-07-19T15:59:46.453437Z",
     "start_time": "2023-07-19T15:59:45.476451Z"
    }
   },
   "outputs": [
    {
     "data": {
      "text/html": [
       "<div>\n",
       "<style scoped>\n",
       "    .dataframe tbody tr th:only-of-type {\n",
       "        vertical-align: middle;\n",
       "    }\n",
       "\n",
       "    .dataframe tbody tr th {\n",
       "        vertical-align: top;\n",
       "    }\n",
       "\n",
       "    .dataframe thead th {\n",
       "        text-align: right;\n",
       "    }\n",
       "</style>\n",
       "<table border=\"1\" class=\"dataframe\">\n",
       "  <thead>\n",
       "    <tr style=\"text-align: right;\">\n",
       "      <th></th>\n",
       "      <th>col_name</th>\n",
       "      <th>degree</th>\n",
       "      <th>r_squared</th>\n",
       "    </tr>\n",
       "  </thead>\n",
       "  <tbody>\n",
       "    <tr>\n",
       "      <th>19</th>\n",
       "      <td>GrLivArea</td>\n",
       "      <td>3</td>\n",
       "      <td>0.827957</td>\n",
       "    </tr>\n",
       "    <tr>\n",
       "      <th>49</th>\n",
       "      <td>OverallQual_2ndFlrSF</td>\n",
       "      <td>3</td>\n",
       "      <td>0.821185</td>\n",
       "    </tr>\n",
       "    <tr>\n",
       "      <th>41</th>\n",
       "      <td>LotArea_Fireplaces</td>\n",
       "      <td>4</td>\n",
       "      <td>0.811689</td>\n",
       "    </tr>\n",
       "    <tr>\n",
       "      <th>40</th>\n",
       "      <td>LotArea_Fireplaces</td>\n",
       "      <td>3</td>\n",
       "      <td>0.811442</td>\n",
       "    </tr>\n",
       "    <tr>\n",
       "      <th>4</th>\n",
       "      <td>OverallQual</td>\n",
       "      <td>3</td>\n",
       "      <td>0.805263</td>\n",
       "    </tr>\n",
       "    <tr>\n",
       "      <th>48</th>\n",
       "      <td>OverallQual_2ndFlrSF</td>\n",
       "      <td>2</td>\n",
       "      <td>0.805042</td>\n",
       "    </tr>\n",
       "    <tr>\n",
       "      <th>5</th>\n",
       "      <td>OverallQual</td>\n",
       "      <td>4</td>\n",
       "      <td>0.802168</td>\n",
       "    </tr>\n",
       "    <tr>\n",
       "      <th>3</th>\n",
       "      <td>OverallQual</td>\n",
       "      <td>2</td>\n",
       "      <td>0.801164</td>\n",
       "    </tr>\n",
       "    <tr>\n",
       "      <th>2</th>\n",
       "      <td>LotArea</td>\n",
       "      <td>4</td>\n",
       "      <td>0.799193</td>\n",
       "    </tr>\n",
       "    <tr>\n",
       "      <th>16</th>\n",
       "      <td>2ndFlrSF</td>\n",
       "      <td>3</td>\n",
       "      <td>0.775607</td>\n",
       "    </tr>\n",
       "    <tr>\n",
       "      <th>43</th>\n",
       "      <td>2ndFlrSF_TotRmsAbvGrd</td>\n",
       "      <td>3</td>\n",
       "      <td>0.773775</td>\n",
       "    </tr>\n",
       "  </tbody>\n",
       "</table>\n",
       "</div>"
      ],
      "text/plain": [
       "                 col_name  degree  r_squared\n",
       "19              GrLivArea       3   0.827957\n",
       "49   OverallQual_2ndFlrSF       3   0.821185\n",
       "41     LotArea_Fireplaces       4   0.811689\n",
       "40     LotArea_Fireplaces       3   0.811442\n",
       "4             OverallQual       3   0.805263\n",
       "48   OverallQual_2ndFlrSF       2   0.805042\n",
       "5             OverallQual       4   0.802168\n",
       "3             OverallQual       2   0.801164\n",
       "2                 LotArea       4   0.799193\n",
       "16               2ndFlrSF       3   0.775607\n",
       "43  2ndFlrSF_TotRmsAbvGrd       3   0.773775"
      ]
     },
     "execution_count": 7,
     "metadata": {},
     "output_type": "execute_result"
    }
   ],
   "source": [
    "# Set up data structure\n",
    "poly_list = []\n",
    "# Loop over all columns\n",
    "for col in X_train.columns:\n",
    "    # Loop over degrees 2, 3, 4\n",
    "    for deg in (2, 3, 4):\n",
    "        # Make a copy of X_train and X_test\n",
    "        train = X_train.copy().reset_index()\n",
    "        test = X_test.copy().reset_index()\n",
    "\n",
    "        # Instantiate PolynomialFeatures with relevant degree\n",
    "        poly = PolynomialFeatures(degree=deg, include_bias=False)\n",
    "\n",
    "        # Fit polynomial to column and transform column\n",
    "        poly_feat_train = pd.DataFrame(poly.fit_transform(train[[col]]))\n",
    "        poly_feat_test = pd.DataFrame(poly.transform(test[[col]]))\n",
    "        \n",
    "        # Add polynomial to data\n",
    "        poly_train = pd.concat([train.drop(col, axis=1), poly_feat_train], axis=1)\n",
    "        poly_test = pd.concat([test.drop(col, axis=1), poly_feat_test], axis=1)\n",
    "        \n",
    "        # Find r-squared score\n",
    "        lr = LinearRegression()\n",
    "        lr.fit(poly_train, y_train)\n",
    "        R2 = lr.score(poly_test, y_test)\n",
    "        \n",
    "        # Append to data structure\n",
    "        poly_list.append(((col, deg, R2)))\n",
    "\n",
    "# Sort and subset the data structure to find the top 7\n",
    "poly_df = pd.DataFrame(poly_list, columns=['col_name', 'degree', 'r_squared'])\n",
    "sorted_poly = poly_df.sort_values('r_squared', ascending=False)\n",
    "num = 7\n",
    "while len(sorted_poly['col_name'].iloc[:num].unique()) < 7:\n",
    "    num += 1\n",
    "\n",
    "top_poly = sorted_poly.iloc[:num]\n",
    "top_poly"
   ]
  },
  {
   "cell_type": "markdown",
   "metadata": {},
   "source": [
    "### Add the Best Polynomials\n",
    "\n",
    "If there are duplicate column values in the results above, don't add multiple of them to the model, to avoid creating duplicate columns. (For example, if column `A` appeared in your list as both a 2nd and 3rd degree polynomial, adding both would result in `A` squared being added to the features twice.) Just add in the polynomial that results in the highest R-Squared."
   ]
  },
  {
   "cell_type": "code",
   "execution_count": 8,
   "metadata": {
    "ExecuteTime": {
     "end_time": "2023-07-19T15:59:46.514037Z",
     "start_time": "2023-07-19T15:59:46.457906Z"
    },
    "scrolled": true
   },
   "outputs": [
    {
     "data": {
      "text/plain": [
       "[['GrLivArea', 3],\n",
       " ['OverallQual_2ndFlrSF', 3],\n",
       " ['LotArea_Fireplaces', 4],\n",
       " ['OverallQual', 3],\n",
       " ['LotArea', 4],\n",
       " ['2ndFlrSF', 3],\n",
       " ['2ndFlrSF_TotRmsAbvGrd', 3]]"
      ]
     },
     "execution_count": 8,
     "metadata": {},
     "output_type": "execute_result"
    }
   ],
   "source": [
    "# Filter out duplicates\n",
    "col_names = []\n",
    "poly_terms = []\n",
    "for row in top_poly.iterrows():\n",
    "    col = row[1][0]\n",
    "    deg = row[1][1]\n",
    "    if col not in col_names:\n",
    "        col_names.append(col)\n",
    "        poly_terms.append([col,deg])\n",
    "poly_terms"
   ]
  },
  {
   "cell_type": "code",
   "execution_count": 9,
   "metadata": {
    "ExecuteTime": {
     "end_time": "2023-07-19T15:59:46.605426Z",
     "start_time": "2023-07-19T15:59:46.517575Z"
    }
   },
   "outputs": [],
   "source": [
    "# Loop over remaining results\n",
    "for col, deg in poly_terms:\n",
    "\n",
    "    # Create polynomial column names\n",
    "    names = []\n",
    "    for i in range(deg + 1):\n",
    "        if i > 0:\n",
    "            names.append(col + '^' + str(i))\n",
    "\n",
    "    # Create polynomial terms\n",
    "    poly = PolynomialFeatures(degree=deg, include_bias=False)\n",
    "    poly_feat_train = pd.DataFrame(poly.fit_transform(X_train[[col]]),\n",
    "                                   columns=names,\n",
    "                                   index=X_train.index).iloc[:, 1:] # first degree column is a duplicate\n",
    "    poly_feat_test = pd.DataFrame(poly.transform(X_test[[col]]),\n",
    "                                  columns=names,\n",
    "                                  index=X_test.index).iloc[:, 1:]\n",
    "\n",
    "    # Concat new polynomials to X_train and X_test\n",
    "    X_train = pd.concat([X_train, poly_feat_train], axis=1)\n",
    "    X_test = pd.concat([X_test, poly_feat_test], axis=1)"
   ]
  },
  {
   "cell_type": "markdown",
   "metadata": {},
   "source": [
    "Check out your final data set and make sure that your interaction terms as well as your polynomial terms are included."
   ]
  },
  {
   "cell_type": "code",
   "execution_count": 10,
   "metadata": {
    "ExecuteTime": {
     "end_time": "2023-07-19T15:59:46.619548Z",
     "start_time": "2023-07-19T15:59:46.608468Z"
    }
   },
   "outputs": [
    {
     "name": "stdout",
     "output_type": "stream",
     "text": [
      "[ True  True  True  True  True  True  True  True  True  True  True  True\n",
      "  True  True  True  True  True  True  True  True  True  True  True  True\n",
      "  True  True  True  True  True  True  True  True  True]\n"
     ]
    },
    {
     "data": {
      "text/plain": [
       "Index(['LotArea', 'OverallQual', 'OverallCond', 'TotalBsmtSF', '1stFlrSF',\n",
       "       '2ndFlrSF', 'GrLivArea', 'TotRmsAbvGrd', 'GarageArea', 'Fireplaces',\n",
       "       'LotArea_1stFlrSF', 'LotArea_TotalBsmtSF', 'LotArea_GrLivArea',\n",
       "       'LotArea_Fireplaces', '2ndFlrSF_TotRmsAbvGrd',\n",
       "       'OverallCond_TotalBsmtSF', 'OverallQual_2ndFlrSF', 'GrLivArea^2',\n",
       "       'GrLivArea^3', 'OverallQual_2ndFlrSF^2', 'OverallQual_2ndFlrSF^3',\n",
       "       'LotArea_Fireplaces^2', 'LotArea_Fireplaces^3', 'LotArea_Fireplaces^4',\n",
       "       'OverallQual^2', 'OverallQual^3', 'LotArea^2', 'LotArea^3', 'LotArea^4',\n",
       "       '2ndFlrSF^2', '2ndFlrSF^3', '2ndFlrSF_TotRmsAbvGrd^2',\n",
       "       '2ndFlrSF_TotRmsAbvGrd^3'],\n",
       "      dtype='object')"
      ]
     },
     "metadata": {},
     "output_type": "display_data"
    }
   ],
   "source": [
    "print(X_train.columns==X_test.columns)\n",
    "display(X_test.columns)"
   ]
  },
  {
   "cell_type": "markdown",
   "metadata": {},
   "source": [
    "## Full Model R-Squared"
   ]
  },
  {
   "cell_type": "markdown",
   "metadata": {},
   "source": [
    "Check out the $R^2$ of the full model with your interaction and polynomial terms added. Print this value for both the train and test data."
   ]
  },
  {
   "cell_type": "code",
   "execution_count": 11,
   "metadata": {
    "ExecuteTime": {
     "end_time": "2023-07-19T15:59:46.647671Z",
     "start_time": "2023-07-19T15:59:46.623131Z"
    }
   },
   "outputs": [
    {
     "name": "stdout",
     "output_type": "stream",
     "text": [
      "Training R-Squared:0.8662571545061544\n",
      "Test R-Squared:-53.74748395708928\n"
     ]
    }
   ],
   "source": [
    "# Your code here\n",
    "lr = LinearRegression()\n",
    "lr.fit(X_train,y_train)\n",
    "R2_train_full = lr.score(X_train,y_train)\n",
    "R2_test_full = lr.score(X_test,y_test)\n",
    "print(f'Training R-Squared:{R2_train_full}')\n",
    "print(f'Test R-Squared:{R2_test_full}')\n",
    "\n"
   ]
  },
  {
   "cell_type": "markdown",
   "metadata": {},
   "source": [
    "It looks like we may be overfitting some now. Let's try some feature selection techniques."
   ]
  },
  {
   "cell_type": "markdown",
   "metadata": {},
   "source": [
    "## Feature Selection\n",
    "\n",
    "First, test out `RFE` ([documentation here](https://scikit-learn.org/stable/modules/generated/sklearn.feature_selection.RFE.html)) with several different `n_features_to_select` values. For each value, print out the train and test $R^2$ score and how many features remain."
   ]
  },
  {
   "cell_type": "code",
   "execution_count": 12,
   "metadata": {
    "ExecuteTime": {
     "end_time": "2023-07-19T15:59:47.764307Z",
     "start_time": "2023-07-19T15:59:46.650637Z"
    }
   },
   "outputs": [
    {
     "data": {
      "text/html": [
       "<div>\n",
       "<style scoped>\n",
       "    .dataframe tbody tr th:only-of-type {\n",
       "        vertical-align: middle;\n",
       "    }\n",
       "\n",
       "    .dataframe tbody tr th {\n",
       "        vertical-align: top;\n",
       "    }\n",
       "\n",
       "    .dataframe thead th {\n",
       "        text-align: right;\n",
       "    }\n",
       "</style>\n",
       "<table border=\"1\" class=\"dataframe\">\n",
       "  <thead>\n",
       "    <tr style=\"text-align: right;\">\n",
       "      <th></th>\n",
       "      <th>train_r2</th>\n",
       "      <th>test_r2</th>\n",
       "      <th>num_feat</th>\n",
       "    </tr>\n",
       "  </thead>\n",
       "  <tbody>\n",
       "    <tr>\n",
       "      <th>0</th>\n",
       "      <td>0.626357</td>\n",
       "      <td>0.588350</td>\n",
       "      <td>1</td>\n",
       "    </tr>\n",
       "    <tr>\n",
       "      <th>1</th>\n",
       "      <td>0.701676</td>\n",
       "      <td>0.606605</td>\n",
       "      <td>2</td>\n",
       "    </tr>\n",
       "    <tr>\n",
       "      <th>2</th>\n",
       "      <td>0.748018</td>\n",
       "      <td>0.644873</td>\n",
       "      <td>3</td>\n",
       "    </tr>\n",
       "    <tr>\n",
       "      <th>3</th>\n",
       "      <td>0.761338</td>\n",
       "      <td>0.614568</td>\n",
       "      <td>4</td>\n",
       "    </tr>\n",
       "    <tr>\n",
       "      <th>4</th>\n",
       "      <td>0.776040</td>\n",
       "      <td>0.635298</td>\n",
       "      <td>5</td>\n",
       "    </tr>\n",
       "    <tr>\n",
       "      <th>5</th>\n",
       "      <td>0.802565</td>\n",
       "      <td>0.645120</td>\n",
       "      <td>6</td>\n",
       "    </tr>\n",
       "    <tr>\n",
       "      <th>6</th>\n",
       "      <td>0.811519</td>\n",
       "      <td>0.648715</td>\n",
       "      <td>7</td>\n",
       "    </tr>\n",
       "    <tr>\n",
       "      <th>7</th>\n",
       "      <td>0.817568</td>\n",
       "      <td>0.771919</td>\n",
       "      <td>8</td>\n",
       "    </tr>\n",
       "    <tr>\n",
       "      <th>8</th>\n",
       "      <td>0.821070</td>\n",
       "      <td>0.773950</td>\n",
       "      <td>9</td>\n",
       "    </tr>\n",
       "    <tr>\n",
       "      <th>9</th>\n",
       "      <td>0.823568</td>\n",
       "      <td>0.769994</td>\n",
       "      <td>10</td>\n",
       "    </tr>\n",
       "    <tr>\n",
       "      <th>10</th>\n",
       "      <td>0.831086</td>\n",
       "      <td>0.797074</td>\n",
       "      <td>11</td>\n",
       "    </tr>\n",
       "    <tr>\n",
       "      <th>11</th>\n",
       "      <td>0.835025</td>\n",
       "      <td>0.833924</td>\n",
       "      <td>12</td>\n",
       "    </tr>\n",
       "    <tr>\n",
       "      <th>12</th>\n",
       "      <td>0.835567</td>\n",
       "      <td>0.834553</td>\n",
       "      <td>13</td>\n",
       "    </tr>\n",
       "    <tr>\n",
       "      <th>13</th>\n",
       "      <td>0.835579</td>\n",
       "      <td>0.834598</td>\n",
       "      <td>14</td>\n",
       "    </tr>\n",
       "    <tr>\n",
       "      <th>14</th>\n",
       "      <td>0.846323</td>\n",
       "      <td>0.815012</td>\n",
       "      <td>15</td>\n",
       "    </tr>\n",
       "    <tr>\n",
       "      <th>15</th>\n",
       "      <td>0.852315</td>\n",
       "      <td>0.678434</td>\n",
       "      <td>16</td>\n",
       "    </tr>\n",
       "    <tr>\n",
       "      <th>16</th>\n",
       "      <td>0.852469</td>\n",
       "      <td>0.693316</td>\n",
       "      <td>17</td>\n",
       "    </tr>\n",
       "    <tr>\n",
       "      <th>17</th>\n",
       "      <td>0.852511</td>\n",
       "      <td>0.691704</td>\n",
       "      <td>18</td>\n",
       "    </tr>\n",
       "    <tr>\n",
       "      <th>18</th>\n",
       "      <td>0.853458</td>\n",
       "      <td>0.726364</td>\n",
       "      <td>19</td>\n",
       "    </tr>\n",
       "    <tr>\n",
       "      <th>19</th>\n",
       "      <td>0.855593</td>\n",
       "      <td>0.313555</td>\n",
       "      <td>20</td>\n",
       "    </tr>\n",
       "    <tr>\n",
       "      <th>20</th>\n",
       "      <td>0.855769</td>\n",
       "      <td>0.292548</td>\n",
       "      <td>21</td>\n",
       "    </tr>\n",
       "    <tr>\n",
       "      <th>21</th>\n",
       "      <td>0.855824</td>\n",
       "      <td>0.278380</td>\n",
       "      <td>22</td>\n",
       "    </tr>\n",
       "    <tr>\n",
       "      <th>22</th>\n",
       "      <td>0.855943</td>\n",
       "      <td>0.279071</td>\n",
       "      <td>23</td>\n",
       "    </tr>\n",
       "    <tr>\n",
       "      <th>23</th>\n",
       "      <td>0.856896</td>\n",
       "      <td>0.250294</td>\n",
       "      <td>24</td>\n",
       "    </tr>\n",
       "    <tr>\n",
       "      <th>24</th>\n",
       "      <td>0.858859</td>\n",
       "      <td>0.074863</td>\n",
       "      <td>25</td>\n",
       "    </tr>\n",
       "    <tr>\n",
       "      <th>25</th>\n",
       "      <td>0.861346</td>\n",
       "      <td>-4.159521</td>\n",
       "      <td>26</td>\n",
       "    </tr>\n",
       "    <tr>\n",
       "      <th>26</th>\n",
       "      <td>0.861346</td>\n",
       "      <td>-4.159739</td>\n",
       "      <td>27</td>\n",
       "    </tr>\n",
       "    <tr>\n",
       "      <th>27</th>\n",
       "      <td>0.864425</td>\n",
       "      <td>-3.639924</td>\n",
       "      <td>28</td>\n",
       "    </tr>\n",
       "    <tr>\n",
       "      <th>28</th>\n",
       "      <td>0.864862</td>\n",
       "      <td>-3.499898</td>\n",
       "      <td>29</td>\n",
       "    </tr>\n",
       "    <tr>\n",
       "      <th>29</th>\n",
       "      <td>0.864862</td>\n",
       "      <td>-3.505031</td>\n",
       "      <td>30</td>\n",
       "    </tr>\n",
       "    <tr>\n",
       "      <th>30</th>\n",
       "      <td>0.866255</td>\n",
       "      <td>-53.492240</td>\n",
       "      <td>31</td>\n",
       "    </tr>\n",
       "    <tr>\n",
       "      <th>31</th>\n",
       "      <td>0.866256</td>\n",
       "      <td>-53.512463</td>\n",
       "      <td>32</td>\n",
       "    </tr>\n",
       "    <tr>\n",
       "      <th>32</th>\n",
       "      <td>0.866257</td>\n",
       "      <td>-53.747484</td>\n",
       "      <td>33</td>\n",
       "    </tr>\n",
       "  </tbody>\n",
       "</table>\n",
       "</div>"
      ],
      "text/plain": [
       "    train_r2    test_r2  num_feat\n",
       "0   0.626357   0.588350         1\n",
       "1   0.701676   0.606605         2\n",
       "2   0.748018   0.644873         3\n",
       "3   0.761338   0.614568         4\n",
       "4   0.776040   0.635298         5\n",
       "5   0.802565   0.645120         6\n",
       "6   0.811519   0.648715         7\n",
       "7   0.817568   0.771919         8\n",
       "8   0.821070   0.773950         9\n",
       "9   0.823568   0.769994        10\n",
       "10  0.831086   0.797074        11\n",
       "11  0.835025   0.833924        12\n",
       "12  0.835567   0.834553        13\n",
       "13  0.835579   0.834598        14\n",
       "14  0.846323   0.815012        15\n",
       "15  0.852315   0.678434        16\n",
       "16  0.852469   0.693316        17\n",
       "17  0.852511   0.691704        18\n",
       "18  0.853458   0.726364        19\n",
       "19  0.855593   0.313555        20\n",
       "20  0.855769   0.292548        21\n",
       "21  0.855824   0.278380        22\n",
       "22  0.855943   0.279071        23\n",
       "23  0.856896   0.250294        24\n",
       "24  0.858859   0.074863        25\n",
       "25  0.861346  -4.159521        26\n",
       "26  0.861346  -4.159739        27\n",
       "27  0.864425  -3.639924        28\n",
       "28  0.864862  -3.499898        29\n",
       "29  0.864862  -3.505031        30\n",
       "30  0.866255 -53.492240        31\n",
       "31  0.866256 -53.512463        32\n",
       "32  0.866257 -53.747484        33"
      ]
     },
     "execution_count": 12,
     "metadata": {},
     "output_type": "execute_result"
    }
   ],
   "source": [
    "# Your code here\n",
    "rfe_list = []\n",
    "num_features = X_train.shape[1]\n",
    "for num in range(num_features):\n",
    "    rfe = RFE(LinearRegression(),n_features_to_select=num+1)\n",
    "    X_rfe_train = rfe.fit_transform(X_train, y_train)\n",
    "    X_rfe_test = rfe.transform(X_test)\n",
    "    lr = LinearRegression()\n",
    "    lr.fit(X_rfe_train, y_train)\n",
    "\n",
    "    train_r2 = lr.score(X_rfe_train, y_train)\n",
    "    test_r2 = lr.score(X_rfe_test, y_test)\n",
    "    num_feat = X_rfe_train.shape[1]\n",
    "    rfe_list.append((train_r2,test_r2,num_feat))\n",
    "rfe_df = pd.DataFrame(rfe_list,columns=['train_r2','test_r2','num_feat'])\n",
    "rfe_df"
   ]
  },
  {
   "cell_type": "code",
   "execution_count": 13,
   "metadata": {
    "ExecuteTime": {
     "end_time": "2023-07-19T15:59:47.777556Z",
     "start_time": "2023-07-19T15:59:47.767253Z"
    },
    "scrolled": true
   },
   "outputs": [
    {
     "data": {
      "text/html": [
       "<div>\n",
       "<style scoped>\n",
       "    .dataframe tbody tr th:only-of-type {\n",
       "        vertical-align: middle;\n",
       "    }\n",
       "\n",
       "    .dataframe tbody tr th {\n",
       "        vertical-align: top;\n",
       "    }\n",
       "\n",
       "    .dataframe thead th {\n",
       "        text-align: right;\n",
       "    }\n",
       "</style>\n",
       "<table border=\"1\" class=\"dataframe\">\n",
       "  <thead>\n",
       "    <tr style=\"text-align: right;\">\n",
       "      <th></th>\n",
       "      <th>train_r2</th>\n",
       "      <th>test_r2</th>\n",
       "      <th>num_feat</th>\n",
       "    </tr>\n",
       "  </thead>\n",
       "  <tbody>\n",
       "    <tr>\n",
       "      <th>13</th>\n",
       "      <td>0.835579</td>\n",
       "      <td>0.834598</td>\n",
       "      <td>14</td>\n",
       "    </tr>\n",
       "    <tr>\n",
       "      <th>12</th>\n",
       "      <td>0.835567</td>\n",
       "      <td>0.834553</td>\n",
       "      <td>13</td>\n",
       "    </tr>\n",
       "    <tr>\n",
       "      <th>11</th>\n",
       "      <td>0.835025</td>\n",
       "      <td>0.833924</td>\n",
       "      <td>12</td>\n",
       "    </tr>\n",
       "    <tr>\n",
       "      <th>14</th>\n",
       "      <td>0.846323</td>\n",
       "      <td>0.815012</td>\n",
       "      <td>15</td>\n",
       "    </tr>\n",
       "    <tr>\n",
       "      <th>10</th>\n",
       "      <td>0.831086</td>\n",
       "      <td>0.797074</td>\n",
       "      <td>11</td>\n",
       "    </tr>\n",
       "  </tbody>\n",
       "</table>\n",
       "</div>"
      ],
      "text/plain": [
       "    train_r2   test_r2  num_feat\n",
       "13  0.835579  0.834598        14\n",
       "12  0.835567  0.834553        13\n",
       "11  0.835025  0.833924        12\n",
       "14  0.846323  0.815012        15\n",
       "10  0.831086  0.797074        11"
      ]
     },
     "execution_count": 13,
     "metadata": {},
     "output_type": "execute_result"
    }
   ],
   "source": [
    "# Seeing how many features produces the best results\n",
    "rfe_df.sort_values('test_r2',ascending=False).head()"
   ]
  },
  {
   "cell_type": "code",
   "execution_count": 14,
   "metadata": {
    "ExecuteTime": {
     "end_time": "2023-07-19T15:59:47.865321Z",
     "start_time": "2023-07-19T15:59:47.788255Z"
    }
   },
   "outputs": [
    {
     "data": {
      "text/plain": [
       "Index(['LotArea', 'OverallQual', 'OverallCond', 'TotalBsmtSF', '1stFlrSF',\n",
       "       '2ndFlrSF', 'TotRmsAbvGrd', 'GarageArea', 'Fireplaces',\n",
       "       'LotArea_1stFlrSF', 'GrLivArea^2', 'OverallQual^2', '2ndFlrSF^2',\n",
       "       '2ndFlrSF^3'],\n",
       "      dtype='object')"
      ]
     },
     "execution_count": 14,
     "metadata": {},
     "output_type": "execute_result"
    }
   ],
   "source": [
    "rfe = RFE(LinearRegression(),n_features_to_select=14)\n",
    "X_rfe_train = rfe.fit_transform(X_train, y_train)\n",
    "X_rfe_test = rfe.transform(X_test)\n",
    "lr = LinearRegression()\n",
    "lr.fit(X_rfe_train, y_train)\n",
    "X_train.iloc[:,rfe.support_].columns\n",
    "\n"
   ]
  },
  {
   "cell_type": "code",
   "execution_count": 15,
   "metadata": {
    "ExecuteTime": {
     "end_time": "2023-07-19T15:59:47.878575Z",
     "start_time": "2023-07-19T15:59:47.868051Z"
    }
   },
   "outputs": [
    {
     "data": {
      "text/plain": [
       "3"
      ]
     },
     "execution_count": 15,
     "metadata": {},
     "output_type": "execute_result"
    }
   ],
   "source": [
    "lasso = Lasso(alpha=1000000)\n",
    "lasso.fit(X_train,y_train)\n",
    "sum(abs(lasso.coef_) > 10**(-10))"
   ]
  },
  {
   "cell_type": "markdown",
   "metadata": {},
   "source": [
    "Now test out `Lasso` ([documentation here](https://scikit-learn.org/stable/modules/generated/sklearn.linear_model.Lasso.html)) with several different `alpha` values."
   ]
  },
  {
   "cell_type": "code",
   "execution_count": 16,
   "metadata": {
    "ExecuteTime": {
     "end_time": "2023-07-19T15:59:48.145582Z",
     "start_time": "2023-07-19T15:59:47.882020Z"
    }
   },
   "outputs": [
    {
     "data": {
      "text/html": [
       "<div>\n",
       "<style scoped>\n",
       "    .dataframe tbody tr th:only-of-type {\n",
       "        vertical-align: middle;\n",
       "    }\n",
       "\n",
       "    .dataframe tbody tr th {\n",
       "        vertical-align: top;\n",
       "    }\n",
       "\n",
       "    .dataframe thead th {\n",
       "        text-align: right;\n",
       "    }\n",
       "</style>\n",
       "<table border=\"1\" class=\"dataframe\">\n",
       "  <thead>\n",
       "    <tr style=\"text-align: right;\">\n",
       "      <th></th>\n",
       "      <th>train_r2</th>\n",
       "      <th>test_r2</th>\n",
       "      <th>alpha</th>\n",
       "      <th>num_feat</th>\n",
       "    </tr>\n",
       "  </thead>\n",
       "  <tbody>\n",
       "    <tr>\n",
       "      <th>0</th>\n",
       "      <td>0.861986</td>\n",
       "      <td>0.567678</td>\n",
       "      <td>0.1</td>\n",
       "      <td>33</td>\n",
       "    </tr>\n",
       "    <tr>\n",
       "      <th>1</th>\n",
       "      <td>0.861985</td>\n",
       "      <td>0.567726</td>\n",
       "      <td>1.0</td>\n",
       "      <td>33</td>\n",
       "    </tr>\n",
       "    <tr>\n",
       "      <th>2</th>\n",
       "      <td>0.861965</td>\n",
       "      <td>0.568195</td>\n",
       "      <td>10.0</td>\n",
       "      <td>33</td>\n",
       "    </tr>\n",
       "    <tr>\n",
       "      <th>3</th>\n",
       "      <td>0.861725</td>\n",
       "      <td>0.567790</td>\n",
       "      <td>100.0</td>\n",
       "      <td>32</td>\n",
       "    </tr>\n",
       "    <tr>\n",
       "      <th>4</th>\n",
       "      <td>0.855464</td>\n",
       "      <td>0.637995</td>\n",
       "      <td>1000.0</td>\n",
       "      <td>22</td>\n",
       "    </tr>\n",
       "    <tr>\n",
       "      <th>5</th>\n",
       "      <td>0.789476</td>\n",
       "      <td>0.789881</td>\n",
       "      <td>10000.0</td>\n",
       "      <td>17</td>\n",
       "    </tr>\n",
       "    <tr>\n",
       "      <th>6</th>\n",
       "      <td>0.298107</td>\n",
       "      <td>0.304605</td>\n",
       "      <td>100000.0</td>\n",
       "      <td>5</td>\n",
       "    </tr>\n",
       "    <tr>\n",
       "      <th>7</th>\n",
       "      <td>0.066689</td>\n",
       "      <td>0.040144</td>\n",
       "      <td>1000000.0</td>\n",
       "      <td>3</td>\n",
       "    </tr>\n",
       "  </tbody>\n",
       "</table>\n",
       "</div>"
      ],
      "text/plain": [
       "   train_r2   test_r2      alpha  num_feat\n",
       "0  0.861986  0.567678        0.1        33\n",
       "1  0.861985  0.567726        1.0        33\n",
       "2  0.861965  0.568195       10.0        33\n",
       "3  0.861725  0.567790      100.0        32\n",
       "4  0.855464  0.637995     1000.0        22\n",
       "5  0.789476  0.789881    10000.0        17\n",
       "6  0.298107  0.304605   100000.0         5\n",
       "7  0.066689  0.040144  1000000.0         3"
      ]
     },
     "execution_count": 16,
     "metadata": {},
     "output_type": "execute_result"
    }
   ],
   "source": [
    "# Your code here\n",
    "lasso_list = []\n",
    "for num in [0.1, 1, 10, 100, 1000, 10000, 100000, 1000000]:\n",
    "    lasso = Lasso(alpha=num)\n",
    "    lasso.fit(X_train,y_train)\n",
    "    \n",
    "    train_r2 = lasso.score(X_train, y_train)\n",
    "    test_r2 = lasso.score(X_test, y_test)\n",
    "    num_feats = sum(abs(lasso.coef_) > 10**(-10))\n",
    "    \n",
    "    lasso_list.append((train_r2,test_r2,num,num_feats))\n",
    "lasso_df = pd.DataFrame(lasso_list,columns=['train_r2','test_r2','alpha','num_feat'])\n",
    "lasso_df"
   ]
  },
  {
   "cell_type": "markdown",
   "metadata": {},
   "source": [
    "Compare the results. Which features would you choose to use?"
   ]
  },
  {
   "cell_type": "code",
   "execution_count": 17,
   "metadata": {
    "ExecuteTime": {
     "end_time": "2023-07-19T15:59:48.154017Z",
     "start_time": "2023-07-19T15:59:48.148361Z"
    }
   },
   "outputs": [
    {
     "data": {
      "text/plain": [
       "\"\\nThe best results came from doing the RFE with 14 features. Which include:\\n'LotArea', 'OverallQual', 'OverallCond', 'TotalBsmtSF', '1stFlrSF',\\n'2ndFlrSF', 'TotRmsAbvGrd', 'GarageArea', 'Fireplaces',\\n'LotArea_1stFlrSF', 'GrLivArea^2', 'OverallQual^2', '2ndFlrSF^2',\\n'2ndFlrSF^3'\\n\""
      ]
     },
     "execution_count": 17,
     "metadata": {},
     "output_type": "execute_result"
    }
   ],
   "source": [
    "# Your written answer here\n",
    "\n",
    "\"\"\"\n",
    "The best results came from doing the RFE with 14 features. Which include:\n",
    "'LotArea', 'OverallQual', 'OverallCond', 'TotalBsmtSF', '1stFlrSF',\n",
    "'2ndFlrSF', 'TotRmsAbvGrd', 'GarageArea', 'Fireplaces',\n",
    "'LotArea_1stFlrSF', 'GrLivArea^2', 'OverallQual^2', '2ndFlrSF^2',\n",
    "'2ndFlrSF^3'\n",
    "\"\"\"\n"
   ]
  },
  {
   "cell_type": "markdown",
   "metadata": {},
   "source": [
    "## Evaluate Final Model on Validation Data\n",
    "\n",
    "### Data Preparation\n",
    "\n",
    "At the start of this lab, we created `X_val` and `y_val`. Prepare `X_val` the same way that `X_train` and `X_test` have been prepared. This includes scaling, adding interactions, and adding polynomial terms."
   ]
  },
  {
   "cell_type": "code",
   "execution_count": 18,
   "metadata": {
    "ExecuteTime": {
     "end_time": "2023-07-19T15:59:48.237526Z",
     "start_time": "2023-07-19T15:59:48.156809Z"
    }
   },
   "outputs": [],
   "source": [
    "# Scale\n",
    "X_val_scaled = scaler.transform(X_val)\n",
    "X_val = pd.DataFrame(X_val_scaled, columns=X.columns, index=X_val.index)\n",
    "\n",
    "# Adding interactions\n",
    "for col1, col2 in top_7_df.iloc[:,:2].itertuples(index=False, name=None):\n",
    "    name = str(col1)+'_'+str(col2)\n",
    "    X_val[name] = X_val[col1]*X_val[col2]\n",
    "\n",
    "## Adding polynomial terms\n",
    "for col, deg in poly_terms:\n",
    "    names = []\n",
    "    for i in range(deg + 1):\n",
    "        if i > 0:\n",
    "            names.append(col + '^' + str(i))\n",
    "    poly = PolynomialFeatures(degree=deg, include_bias=False)\n",
    "    poly.fit_transform(X_train[[col]])\n",
    "    poly_feat_val = pd.DataFrame(poly.transform(X_val[[col]]),columns=names,index=X_val.index).iloc[:, 1:]\n",
    "    X_val = pd.concat([X_val, poly_feat_val], axis=1)"
   ]
  },
  {
   "cell_type": "markdown",
   "metadata": {},
   "source": [
    "### Evaluation"
   ]
  },
  {
   "cell_type": "markdown",
   "metadata": {},
   "source": [
    "Using either `RFE` or `Lasso`, fit a model on the complete train + test set, then find R-Squared and MSE values for the validation set."
   ]
  },
  {
   "cell_type": "code",
   "execution_count": 19,
   "metadata": {
    "ExecuteTime": {
     "end_time": "2023-07-19T15:59:48.320000Z",
     "start_time": "2023-07-19T15:59:48.240064Z"
    }
   },
   "outputs": [
    {
     "name": "stdout",
     "output_type": "stream",
     "text": [
      "Final R-Squared:0.8544223741704797\n",
      "Final MSE:1019816260.0416049\n"
     ]
    }
   ],
   "source": [
    "X_train_test = pd.concat([X_train,X_test])   \n",
    "y_train_test = pd.concat([y_train,y_test]) \n",
    "\n",
    "rfe = RFE(LinearRegression(),n_features_to_select=14)\n",
    "\n",
    "X_rfe_train_test = rfe.fit_transform(X_train_test, y_train_test)\n",
    "X_rfe_val = rfe.transform(X_val)\n",
    "lr = LinearRegression()\n",
    "lr.fit(X_train_test, y_train_test)\n",
    "\n",
    "final_r2 = lr.score(X_val,y_val)\n",
    "final_mse = mean_squared_error(y_val,lr.predict(X_val))\n",
    "\n",
    "print(f'Final R-Squared:{final_r2}')\n",
    "print(f'Final MSE:{final_mse}')"
   ]
  },
  {
   "cell_type": "markdown",
   "metadata": {},
   "source": [
    "## Level Up Ideas (Optional)\n",
    "\n",
    "### Create a Lasso Path\n",
    "\n",
    "From this section, you know that when using `Lasso`, more parameters shrink to zero as your regularization parameter goes up. In scikit-learn there is a function `lasso_path()` which visualizes the shrinkage of the coefficients while $alpha$ changes. Try this out yourself!\n",
    "\n",
    "https://scikit-learn.org/stable/auto_examples/linear_model/plot_lasso_coordinate_descent_path.html#sphx-glr-auto-examples-linear-model-plot-lasso-coordinate-descent-path-py\n",
    "\n",
    "### AIC and BIC for Subset Selection\n",
    "\n",
    "This notebook shows how you can use AIC and BIC purely for feature selection. Try this code out on our Ames housing data!\n",
    "\n",
    "https://xavierbourretsicotte.github.io/subset_selection.html"
   ]
  },
  {
   "cell_type": "markdown",
   "metadata": {},
   "source": [
    "## Summary"
   ]
  },
  {
   "cell_type": "markdown",
   "metadata": {},
   "source": [
    "Congratulations! You now know how to apply concepts of bias-variance tradeoff using extensions to linear models and feature selection."
   ]
  }
 ],
 "metadata": {
  "kernelspec": {
   "display_name": "Python (learn-env3)",
   "language": "python",
   "name": "learn-env3"
  },
  "language_info": {
   "codemirror_mode": {
    "name": "ipython",
    "version": 3
   },
   "file_extension": ".py",
   "mimetype": "text/x-python",
   "name": "python",
   "nbconvert_exporter": "python",
   "pygments_lexer": "ipython3",
   "version": "3.8.5"
  }
 },
 "nbformat": 4,
 "nbformat_minor": 2
}
